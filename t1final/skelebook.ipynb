{
 "cells": [
  {
   "cell_type": "code",
   "execution_count": 3,
   "id": "f691181c-7b1c-4995-a850-236c8df32ed1",
   "metadata": {},
   "outputs": [],
   "source": [
    "# ===============================================\n",
    "# Clean → Encode → Classify (KNN) — Simplified\n",
    "# ===============================================\n",
    "# Dataset: Kaggle \"Mushroom Classification\"\n",
    "# Expected file: ./mushrooms.csv\n",
    "\n",
    "import os\n",
    "import numpy as np\n",
    "import pandas as pd\n",
    "import matplotlib.pyplot as plt\n",
    "\n",
    "from sklearn.model_selection import train_test_split, GridSearchCV\n",
    "from sklearn.preprocessing import StandardScaler, label_binarize\n",
    "from sklearn.impute import SimpleImputer  # used ONCE as an example\n",
    "from sklearn.neighbors import KNeighborsClassifier\n",
    "from sklearn.metrics import (\n",
    "    accuracy_score, classification_report, confusion_matrix, ConfusionMatrixDisplay,\n",
    "    roc_curve, auc\n",
    ")\n",
    "\n",
    "RANDOM_STATE = 67 #use a better random state (42 is redundant)\n",
    "np.random.seed(RANDOM_STATE)"
   ]
  },
  {
   "cell_type": "code",
   "execution_count": 5,
   "id": "49e59f2d-8b8c-4d37-8e01-3f7b5568525a",
   "metadata": {},
   "outputs": [
    {
     "name": "stdout",
     "output_type": "stream",
     "text": [
      "Initial shape: (8124, 23)\n"
     ]
    },
    {
     "data": {
      "text/html": [
       "<div>\n",
       "<style scoped>\n",
       "    .dataframe tbody tr th:only-of-type {\n",
       "        vertical-align: middle;\n",
       "    }\n",
       "\n",
       "    .dataframe tbody tr th {\n",
       "        vertical-align: top;\n",
       "    }\n",
       "\n",
       "    .dataframe thead th {\n",
       "        text-align: right;\n",
       "    }\n",
       "</style>\n",
       "<table border=\"1\" class=\"dataframe\">\n",
       "  <thead>\n",
       "    <tr style=\"text-align: right;\">\n",
       "      <th></th>\n",
       "      <th>class</th>\n",
       "      <th>cap-shape</th>\n",
       "      <th>cap-surface</th>\n",
       "      <th>cap-color</th>\n",
       "      <th>bruises</th>\n",
       "      <th>odor</th>\n",
       "      <th>gill-attachment</th>\n",
       "      <th>gill-spacing</th>\n",
       "      <th>gill-size</th>\n",
       "      <th>gill-color</th>\n",
       "      <th>...</th>\n",
       "      <th>stalk-surface-below-ring</th>\n",
       "      <th>stalk-color-above-ring</th>\n",
       "      <th>stalk-color-below-ring</th>\n",
       "      <th>veil-type</th>\n",
       "      <th>veil-color</th>\n",
       "      <th>ring-number</th>\n",
       "      <th>ring-type</th>\n",
       "      <th>spore-print-color</th>\n",
       "      <th>population</th>\n",
       "      <th>habitat</th>\n",
       "    </tr>\n",
       "  </thead>\n",
       "  <tbody>\n",
       "    <tr>\n",
       "      <th>0</th>\n",
       "      <td>p</td>\n",
       "      <td>x</td>\n",
       "      <td>s</td>\n",
       "      <td>n</td>\n",
       "      <td>t</td>\n",
       "      <td>p</td>\n",
       "      <td>f</td>\n",
       "      <td>c</td>\n",
       "      <td>n</td>\n",
       "      <td>k</td>\n",
       "      <td>...</td>\n",
       "      <td>s</td>\n",
       "      <td>w</td>\n",
       "      <td>w</td>\n",
       "      <td>p</td>\n",
       "      <td>w</td>\n",
       "      <td>o</td>\n",
       "      <td>p</td>\n",
       "      <td>k</td>\n",
       "      <td>s</td>\n",
       "      <td>u</td>\n",
       "    </tr>\n",
       "    <tr>\n",
       "      <th>1</th>\n",
       "      <td>e</td>\n",
       "      <td>x</td>\n",
       "      <td>s</td>\n",
       "      <td>y</td>\n",
       "      <td>t</td>\n",
       "      <td>a</td>\n",
       "      <td>f</td>\n",
       "      <td>c</td>\n",
       "      <td>b</td>\n",
       "      <td>k</td>\n",
       "      <td>...</td>\n",
       "      <td>s</td>\n",
       "      <td>w</td>\n",
       "      <td>w</td>\n",
       "      <td>p</td>\n",
       "      <td>w</td>\n",
       "      <td>o</td>\n",
       "      <td>p</td>\n",
       "      <td>n</td>\n",
       "      <td>n</td>\n",
       "      <td>g</td>\n",
       "    </tr>\n",
       "    <tr>\n",
       "      <th>2</th>\n",
       "      <td>e</td>\n",
       "      <td>b</td>\n",
       "      <td>s</td>\n",
       "      <td>w</td>\n",
       "      <td>t</td>\n",
       "      <td>l</td>\n",
       "      <td>f</td>\n",
       "      <td>c</td>\n",
       "      <td>b</td>\n",
       "      <td>n</td>\n",
       "      <td>...</td>\n",
       "      <td>s</td>\n",
       "      <td>w</td>\n",
       "      <td>w</td>\n",
       "      <td>p</td>\n",
       "      <td>w</td>\n",
       "      <td>o</td>\n",
       "      <td>p</td>\n",
       "      <td>n</td>\n",
       "      <td>n</td>\n",
       "      <td>m</td>\n",
       "    </tr>\n",
       "    <tr>\n",
       "      <th>3</th>\n",
       "      <td>p</td>\n",
       "      <td>x</td>\n",
       "      <td>y</td>\n",
       "      <td>w</td>\n",
       "      <td>t</td>\n",
       "      <td>p</td>\n",
       "      <td>f</td>\n",
       "      <td>c</td>\n",
       "      <td>n</td>\n",
       "      <td>n</td>\n",
       "      <td>...</td>\n",
       "      <td>s</td>\n",
       "      <td>w</td>\n",
       "      <td>w</td>\n",
       "      <td>p</td>\n",
       "      <td>w</td>\n",
       "      <td>o</td>\n",
       "      <td>p</td>\n",
       "      <td>k</td>\n",
       "      <td>s</td>\n",
       "      <td>u</td>\n",
       "    </tr>\n",
       "    <tr>\n",
       "      <th>4</th>\n",
       "      <td>e</td>\n",
       "      <td>x</td>\n",
       "      <td>s</td>\n",
       "      <td>g</td>\n",
       "      <td>f</td>\n",
       "      <td>n</td>\n",
       "      <td>f</td>\n",
       "      <td>w</td>\n",
       "      <td>b</td>\n",
       "      <td>k</td>\n",
       "      <td>...</td>\n",
       "      <td>s</td>\n",
       "      <td>w</td>\n",
       "      <td>w</td>\n",
       "      <td>p</td>\n",
       "      <td>w</td>\n",
       "      <td>o</td>\n",
       "      <td>e</td>\n",
       "      <td>n</td>\n",
       "      <td>a</td>\n",
       "      <td>g</td>\n",
       "    </tr>\n",
       "  </tbody>\n",
       "</table>\n",
       "<p>5 rows × 23 columns</p>\n",
       "</div>"
      ],
      "text/plain": [
       "  class cap-shape cap-surface cap-color bruises odor gill-attachment  \\\n",
       "0     p         x           s         n       t    p               f   \n",
       "1     e         x           s         y       t    a               f   \n",
       "2     e         b           s         w       t    l               f   \n",
       "3     p         x           y         w       t    p               f   \n",
       "4     e         x           s         g       f    n               f   \n",
       "\n",
       "  gill-spacing gill-size gill-color  ... stalk-surface-below-ring  \\\n",
       "0            c         n          k  ...                        s   \n",
       "1            c         b          k  ...                        s   \n",
       "2            c         b          n  ...                        s   \n",
       "3            c         n          n  ...                        s   \n",
       "4            w         b          k  ...                        s   \n",
       "\n",
       "  stalk-color-above-ring stalk-color-below-ring veil-type veil-color  \\\n",
       "0                      w                      w         p          w   \n",
       "1                      w                      w         p          w   \n",
       "2                      w                      w         p          w   \n",
       "3                      w                      w         p          w   \n",
       "4                      w                      w         p          w   \n",
       "\n",
       "  ring-number ring-type spore-print-color population habitat  \n",
       "0           o         p                 k          s       u  \n",
       "1           o         p                 n          n       g  \n",
       "2           o         p                 n          n       m  \n",
       "3           o         p                 k          s       u  \n",
       "4           o         e                 n          a       g  \n",
       "\n",
       "[5 rows x 23 columns]"
      ]
     },
     "execution_count": 5,
     "metadata": {},
     "output_type": "execute_result"
    }
   ],
   "source": [
    "# -----------------------------\n",
    "# 0) Load data\n",
    "# -----------------------------\n",
    "csv_path = \"./mushrooms.csv\"   # TODO: place the file or change path\n",
    "if not os.path.exists(csv_path):  # fallback path when running on Kaggle\n",
    "    csv_path = \"/kaggle/input/mushroom-classification/mushrooms.csv\"\n",
    "if not os.path.exists(csv_path):\n",
    "    raise FileNotFoundError(f\"Could not find {csv_path} — download from Kaggle and try again.\")\n",
    "\n",
    "df = pd.read_csv(csv_path)\n",
    "print(\"Initial shape:\", df.shape)\n",
    "df.head()"
   ]
  },
  {
   "cell_type": "code",
   "execution_count": 6,
   "id": "071b36d1-db02-41bd-8e9e-3cd64dd349e7",
   "metadata": {},
   "outputs": [
    {
     "name": "stdout",
     "output_type": "stream",
     "text": [
      "Removed duplicates: 0\n",
      "Dropped fully empty rows: 0\n",
      "\n",
      "Missing values per column (top 10):\n",
      "class                       0\n",
      "stalk-surface-above-ring    0\n",
      "population                  0\n",
      "spore-print-color           0\n",
      "ring-type                   0\n",
      "ring-number                 0\n",
      "veil-color                  0\n",
      "veil-type                   0\n",
      "stalk-color-below-ring      0\n",
      "stalk-color-above-ring      0\n",
      "dtype: int64\n"
     ]
    }
   ],
   "source": [
    "# -----------------------------\n",
    "# 1) Basic cleaning (duplicates, empty rows)\n",
    "# -----------------------------\n",
    "before = df.shape[0]\n",
    "\n",
    "df = df.drop_duplicates()\n",
    "\n",
    "print(\"Removed duplicates:\", before - df.shape[0])\n",
    "\n",
    "\n",
    "before = df.shape[0]\n",
    "df = df.replace(\"?\", np.nan).dropna(how=\"all\")\n",
    "\n",
    "print(\"Dropped fully empty rows:\", before - df.shape[0])\n",
    "\n",
    "print(\"\\nMissing values per column (top 10):\")\n",
    "print(df.isna().sum().sort_values(ascending=False).head(10))\n",
    "\n"
   ]
  },
  {
   "cell_type": "code",
   "execution_count": 7,
   "id": "7dbf5817-2114-440c-9453-e8d7e365989e",
   "metadata": {},
   "outputs": [
    {
     "name": "stdout",
     "output_type": "stream",
     "text": [
      "\n",
      "Train/Test shapes: (6499, 22) (1625, 22)\n",
      "Original numeric cols: None\n",
      "Original categorical cols (sample): ['cap-shape', 'cap-surface', 'cap-color', 'bruises', 'odor', 'gill-attachment', 'gill-spacing', 'gill-size', 'gill-color', 'stalk-shape']\n"
     ]
    }
   ],
   "source": [
    "# -----------------------------\n",
    "# 2) Target & split\n",
    "# -----------------------------\n",
    "TARGET_COL = \"class\"  # TODO: change if your label column differs\n",
    "if TARGET_COL not in df.columns:\n",
    "    raise ValueError(\"Update TARGET_COL to match your dataset's label column.\")\n",
    "\n",
    "X = df.drop(columns=[TARGET_COL])\n",
    "y = df[TARGET_COL]\n",
    "\n",
    "X_train, X_test, y_train, y_test = train_test_split(\n",
    "    X, y, test_size=0.20, random_state=RANDOM_STATE, stratify=y\n",
    ")\n",
    "print(\"\\nTrain/Test shapes:\", X_train.shape, X_test.shape)\n",
    "\n",
    "# Detect types BEFORE imputation/encoding\n",
    "orig_numeric_cols = X_train.select_dtypes(include=[np.number]).columns.tolist()\n",
    "orig_categorical_cols = X_train.select_dtypes(exclude=[np.number]).columns.tolist()\n",
    "print(\"Original numeric cols:\", orig_numeric_cols if orig_numeric_cols else \"None\")\n",
    "print(\"Original categorical cols (sample):\", orig_categorical_cols[:10])"
   ]
  },
  {
   "cell_type": "code",
   "execution_count": null,
   "id": "598f745b-4cd4-465b-a56d-81cf4f2205d4",
   "metadata": {},
   "outputs": [
    {
     "name": "stdout",
     "output_type": "stream",
     "text": [
      "\n",
      "Used sklearn SimpleImputer on column: 'odor'\n"
     ]
    }
   ],
   "source": [
    "# --------------------------------------------\n",
    "# 3) IMPUTATION (MANUAL) + one sklearn example\n",
    "# --------------------------------------------\n",
    "# Manual imputation rules:\n",
    "#  - Numeric: fill with TRAIN median\n",
    "#  - Categorical: fill with TRAIN mode\n",
    "# NOTE: Compute imputation values on TRAIN only, then apply to both TRAIN & TEST.\n",
    "\n",
    "X_train_imp = X_train.copy()\n",
    "X_test_imp  = X_test.copy()\n",
    "\n",
    "# a) Numeric → manual median\n",
    "for col in orig_numeric_cols:\n",
    "    median_val = X_train_imp[col].median()\n",
    "    X_train_imp[col] = X_train_imp[col].fillna(median_val)\n",
    "    X_test_imp[col]  = X_test_imp[col].fillna(median_val)\n",
    "\n",
    "# b) Categorical → manual mode\n",
    "for col in orig_categorical_cols:\n",
    "    mode_series = X_train_imp[col].mode(dropna=True)\n",
    "    fill_value = mode_series.iloc[0] if not mode_series.empty else \"\"\n",
    "    X_train_imp[col] = X_train_imp[col].fillna(fill_value)\n",
    "    X_test_imp[col]  = X_test_imp[col].fillna(fill_value)\n",
    "\n",
    "# c) One EXAMPLE using sklearn SimpleImputer on a SINGLE column (categorical)\n",
    "IMPUTE_EXAMPLE_COL = \"odor\"  # change if needed\n",
    "if IMPUTE_EXAMPLE_COL in X_train_imp.columns:\n",
    "    cat_imp = SimpleImputer(strategy=\"most_frequent\")\n",
    "\n",
    "    # SimpleImputer returns a 2D array -> flatten with [:, 0]\n",
    "    X_train_imp[IMPUTE_EXAMPLE_COL] = cat_imp.fit_transform(\n",
    "        X_train_imp[[IMPUTE_EXAMPLE_COL]]\n",
    "    )[:, 0]\n",
    "    X_test_imp[IMPUTE_EXAMPLE_COL] = cat_imp.transform(\n",
    "        X_test_imp[[IMPUTE_EXAMPLE_COL]]\n",
    "    )[:, 0]\n",
    "\n",
    "    print(f\"\\nUsed sklearn SimpleImputer on column: '{IMPUTE_EXAMPLE_COL}'\")\n",
    "else:\n",
    "    print(f\"\\nExample imputer column '{IMPUTE_EXAMPLE_COL}' not found. Skipping sklearn example.\")\n"
   ]
  },
  {
   "cell_type": "code",
   "execution_count": 11,
   "id": "bd9cf1bd-1c72-4f22-87b1-020ad1fb5ec3",
   "metadata": {},
   "outputs": [
    {
     "name": "stdout",
     "output_type": "stream",
     "text": [
      "\n",
      "Explicit OHE applied to column: odor\n",
      "Encoded train shape: (6499, 126)\n",
      "Encoded test shape: (1625, 126)\n"
     ]
    }
   ],
   "source": [
    "# --------------------------------------------\n",
    "# 4) ENCODING\n",
    "#    - EXPLICIT One-Hot Encoding on ONE chosen column\n",
    "#    - Then get_dummies for the remaining categoricals\n",
    "# --------------------------------------------\n",
    "# Choose the column for explicit OHE:\n",
    "EXPLICIT_OHE_COL = \"odor\"  # TODO: change if needed\n",
    "\n",
    "X_train_enc = X_train_imp.copy()\n",
    "X_test_enc  = X_test_imp.copy()\n",
    "\n",
    "if EXPLICIT_OHE_COL in X_train_enc.columns:\n",
    "    # EXPLICIT OHE on this ONE column — fit on TRAIN only and TEST only separately (2 lines of code)\n",
    "    train_ohe = pd.get_dummies(X_train_enc[[EXPLICIT_OHE_COL]], drop_first=False)\n",
    "    test_ohe = pd.get_dummies(X_test_enc[[EXPLICIT_OHE_COL]], drop_first=False)\n",
    "    # Align test columns to train (avoid unseen-category issues)\n",
    "    \n",
    "    test_ohe = test_ohe.reindex(columns=train_ohe.columns, fill_value=0)\n",
    "\n",
    "    # Drop original column and concat OHE columns\n",
    "    X_train_enc = pd.concat([X_train_enc.drop(columns=[EXPLICIT_OHE_COL]), train_ohe], axis=1)\n",
    "    X_test_enc  = pd.concat([X_test_enc.drop(columns=[EXPLICIT_OHE_COL]),  test_ohe], axis=1)\n",
    "\n",
    "    print(f\"\\nExplicit OHE applied to column: {EXPLICIT_OHE_COL}\")\n",
    "else:\n",
    "    print(f\"\\n[Note] Explicit OHE column '{EXPLICIT_OHE_COL}' not found. Skipping explicit OHE step.\")\n",
    "\n",
    "remaining_cat_cols = X_train_enc.select_dtypes(exclude=[np.number]).columns.tolist()\n",
    "\n",
    "\n",
    "X_train_enc, X_test_enc = [pd.get_dummies(df, columns=remaining_cat_cols, drop_first=False) for df in (X_train_enc, X_test_enc)]\n",
    "\n",
    "# Align test columns to train columns (VERY IMPORTANT)\n",
    "X_test_enc = X_test_enc.reindex(columns=X_train_enc.columns, fill_value=0)\n",
    "\n",
    "print(\"Encoded train shape:\", X_train_enc.shape)\n",
    "print(\"Encoded test shape:\", X_test_enc.shape)"
   ]
  },
  {
   "cell_type": "code",
   "execution_count": 12,
   "id": "53c3d8fe-6d58-4a0b-9bc3-5f447ada19bc",
   "metadata": {},
   "outputs": [
    {
     "name": "stdout",
     "output_type": "stream",
     "text": [
      "Scaled numeric columns: None\n"
     ]
    }
   ],
   "source": [
    "# --------------------------------------------\n",
    "# 5) NORMALIZE numeric columns (if any)\n",
    "#    (Scale ONLY the original numeric columns; don't scale one-hot columns)\n",
    "# --------------------------------------------\n",
    "scaler = StandardScaler()\n",
    "\n",
    "numeric_cols_to_scale = [c for c in orig_numeric_cols if c in X_train_enc.columns]\n",
    "\n",
    "if numeric_cols_to_scale:\n",
    "    scaler.fit(X_train_enc[numeric_cols_to_scale])\n",
    "    X_train_enc[numeric_cols_to_scale] = scaler.transform(X_train_enc[numeric_cols_to_scale])\n",
    "    X_test_enc[numeric_cols_to_scale] = scaler.transform(X_test_enc[numeric_cols_to_scale])\n",
    "    print(\"Scaled numeric columns:\", numeric_cols_to_scale)\n",
    "else:\n",
    "    print(\"Scaled numeric columns: None\")\n"
   ]
  },
  {
   "cell_type": "code",
   "execution_count": 13,
   "id": "f5f3168a-8b0a-4511-9ea5-0cd73a5e8111",
   "metadata": {},
   "outputs": [
    {
     "name": "stdout",
     "output_type": "stream",
     "text": [
      "Best estimator: KNeighborsClassifier(n_neighbors=3, p=1)\n",
      "Best params: {'n_neighbors': 3, 'p': 1, 'weights': 'uniform'}\n"
     ]
    }
   ],
   "source": [
    "# --------------------------------------------\n",
    "# 6) KNN + Grid Search\n",
    "# --------------------------------------------\n",
    "knn = KNeighborsClassifier()\n",
    "param_grid = {\"n_neighbors\": [3, 5, 7, 9, 11, 15, 21], \"weights\": [\"uniform\", \"distance\"], \"p\": [1, 2]}\n",
    "grid = GridSearchCV(knn, param_grid, cv=5, scoring=\"accuracy\", n_jobs=-1)\n",
    "grid.fit(X_train_enc, y_train)\n",
    "best_knn = grid.best_estimator_\n",
    "print(\"Best estimator:\", best_knn)\n",
    "print(\"Best params:\", grid.best_params_)\n"
   ]
  },
  {
   "cell_type": "code",
   "execution_count": 14,
   "id": "d55419d0-72c2-49a2-9f7d-9b9b0e2a3f62",
   "metadata": {},
   "outputs": [
    {
     "name": "stdout",
     "output_type": "stream",
     "text": [
      "\n",
      "Test accuracy: 1.0000\n",
      "\n",
      "Classification report:\n",
      "               precision    recall  f1-score   support\n",
      "\n",
      "           e       1.00      1.00      1.00       842\n",
      "           p       1.00      1.00      1.00       783\n",
      "\n",
      "    accuracy                           1.00      1625\n",
      "   macro avg       1.00      1.00      1.00      1625\n",
      "weighted avg       1.00      1.00      1.00      1625\n",
      "\n"
     ]
    },
    {
     "data": {
      "text/plain": [
       "<Figure size 640x480 with 0 Axes>"
      ]
     },
     "metadata": {},
     "output_type": "display_data"
    },
    {
     "data": {
      "image/png": "[encoded data removed]",
      "text/plain": [
       "<Figure size 640x480 with 2 Axes>"
      ]
     },
     "metadata": {},
     "output_type": "display_data"
    }
   ],
   "source": [
    "# --------------------------------------------\n",
    "# 7) Evaluate on held-out TEST\n",
    "# --------------------------------------------\n",
    "y_pred = best_knn.predict(X_test_enc)\n",
    "\n",
    "\n",
    "test_acc = accuracy_score(y_test, y_pred)\n",
    "print(\"\\nTest accuracy: {:.4f}\".format(test_acc))\n",
    "print(\"\\nClassification report:\\n\", classification_report(y_test, y_pred))\n",
    "\n",
    "# Confusion Matrix\n",
    "cm = confusion_matrix(y_test, y_pred, labels=np.unique(y))\n",
    "disp = ConfusionMatrixDisplay(confusion_matrix=cm, display_labels=np.unique(y))\n",
    "plt.figure()\n",
    "disp.plot(values_format=\"d\")\n",
    "plt.title(\"Confusion Matrix (Test)\")\n",
    "plt.tight_layout()\n",
    "plt.show()"
   ]
  },
  {
   "cell_type": "code",
   "execution_count": 15,
   "id": "39a94642-08d4-49a3-bf64-be7759e8fe32",
   "metadata": {},
   "outputs": [
    {
     "data": {
      "image/png": "[encoded data removed]",
      "text/plain": [
       "<Figure size 640x480 with 1 Axes>"
      ]
     },
     "metadata": {},
     "output_type": "display_data"
    }
   ],
   "source": [
    "# --------------------------------------------\n",
    "# 8) Validation curve (CV accuracy vs k)\n",
    "# --------------------------------------------\n",
    "cvres = pd.DataFrame(grid.cv_results_)\n",
    "plotdf = cvres[[\"param_n_neighbors\", \"param_weights\", \"param_p\", \"mean_test_score\"]].rename(\n",
    "    columns={\"param_n_neighbors\":\"k\", \"param_weights\":\"weights\", \"param_p\":\"p\"}\n",
    ")\n",
    "\n",
    "plt.figure()\n",
    "for (w, pval), sub in plotdf.groupby([\"weights\", \"p\"]):\n",
    "    sub = sub.sort_values(\"k\")\n",
    "    plt.plot(sub[\"k\"], sub[\"mean_test_score\"], marker=\"o\", label=f\"weights={w}, p={pval}\")\n",
    "plt.xlabel(\"k (n_neighbors)\")\n",
    "plt.ylabel(\"Mean CV Accuracy\")\n",
    "plt.title(\"CV Accuracy vs k (by weights & p)\")\n",
    "plt.legend()\n",
    "plt.grid(True, alpha=0.3)\n",
    "plt.tight_layout()\n",
    "plt.show()"
   ]
  },
  {
   "cell_type": "code",
   "execution_count": 16,
   "id": "9b46d8ad-a0c5-4829-841d-c08a5c7899dc",
   "metadata": {},
   "outputs": [
    {
     "data": {
      "image/png": "[encoded data removed]",
      "text/plain": [
       "<Figure size 640x480 with 1 Axes>"
      ]
     },
     "metadata": {},
     "output_type": "display_data"
    }
   ],
   "source": [
    "# --------------------------------------------\n",
    "# 9) ROC curve (binary; micro-average if multiclass)\n",
    "# --------------------------------------------\n",
    "if hasattr(best_knn, \"predict_proba\"):\n",
    "    classes_ = np.unique(y_train)\n",
    "    y_test_enc_int = pd.Categorical(y_test, categories=classes_).codes\n",
    "    proba = best_knn.predict_proba(X_test_enc)\n",
    "\n",
    "    if len(classes_) == 2:\n",
    "        fpr, tpr, _ = roc_curve(y_test_enc_int, proba[:, 1])\n",
    "        roc_auc = auc(fpr, tpr)\n",
    "        plt.figure()\n",
    "        plt.plot(fpr, tpr, lw=2, label=f\"AUC = {roc_auc:.3f}\")\n",
    "        plt.plot([0, 1], [0, 1], lw=1, linestyle=\"--\")\n",
    "        plt.xlabel(\"False Positive Rate\")\n",
    "        plt.ylabel(\"True Positive Rate\")\n",
    "        plt.title(\"ROC Curve (Test)\")\n",
    "        plt.legend(loc=\"lower right\")\n",
    "        plt.tight_layout()\n",
    "        plt.show()\n",
    "    else:\n",
    "        y_bin = label_binarize(y_test_enc_int, classes=range(len(classes_)))\n",
    "        fpr, tpr, _ = roc_curve(y_bin.ravel(), proba.ravel())\n",
    "        roc_auc = auc(fpr, tpr)\n",
    "        plt.figure()\n",
    "        plt.plot(fpr, tpr, lw=2, label=f\"Micro-average AUC = {roc_auc:.3f}\")\n",
    "        plt.plot([0, 1], [0, 1], lw=1, linestyle=\"--\")\n",
    "        plt.xlabel(\"False Positive Rate\")\n",
    "        plt.ylabel(\"True Positive Rate\")\n",
    "        plt.title(\"ROC Curve (Micro-average)\")\n",
    "        plt.legend(loc=\"lower right\")\n",
    "        plt.tight_layout()\n",
    "        plt.show()\n"
   ]
  },
  {
   "cell_type": "code",
   "execution_count": 17,
   "id": "52474b46-b46c-4f6b-bf74-adc6ac54d947",
   "metadata": {},
   "outputs": [
    {
     "name": "stdout",
     "output_type": "stream",
     "text": [
      "Final feature count: 126\n",
      "Best KNN: KNeighborsClassifier(n_neighbors=3, p=1)\n"
     ]
    }
   ],
   "source": [
    "# --------------------------------------------\n",
    "# 10) Print summary of features\n",
    "# Sample Output: Final feature count: 25\n",
    "# Best KNN: KNeighborsClassifier(n_neighbors=7, p=2, weights='distance')\n",
    "# --------------------------------------------\n",
    "print(f\"Final feature count: {X_train_enc.shape[1]}\")\n",
    "print(f\"Best KNN: {best_knn}\")\n"
   ]
  },
  {
   "cell_type": "code",
   "execution_count": null,
   "id": "e6cf7cff-9130-4610-8b0f-cf9a1e2b0c29",
   "metadata": {},
   "outputs": [],
   "source": []
  }
 ],
 "metadata": {
  "kernelspec": {
   "display_name": ".venv (3.13.3)",
   "language": "python",
   "name": "python3"
  },
  "language_info": {
   "codemirror_mode": {
    "name": "ipython",
    "version": 3
   },
   "file_extension": ".py",
   "mimetype": "text/x-python",
   "name": "python",
   "nbconvert_exporter": "python",
   "pygments_lexer": "ipython3",
   "version": "3.13.3"
  }
 },
 "nbformat": 4,
 "nbformat_minor": 5
}
